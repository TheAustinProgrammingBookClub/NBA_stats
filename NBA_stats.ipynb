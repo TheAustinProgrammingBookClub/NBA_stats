{
 "cells": [
  {
   "cell_type": "code",
   "execution_count": 2,
   "metadata": {
    "collapsed": false
   },
   "outputs": [
    {
     "name": "stdout",
     "output_type": "stream",
     "text": [
      "Dear god I can't read this horrible horse hockey!\n"
     ]
    }
   ],
   "source": [
    "# NBA Stats scraping\n",
    "#\n",
    "# R. Andrew Fowler \n",
    "# Last update: march 14 2016\n",
    "\n",
    "from bs4 import BeautifulSoup\n",
    "from urllib.request import urlopen\n",
    "import pandas as pd\n",
    "import numpy as np\n",
    "import time\n",
    "import re\n",
    "\n",
    "####################################################\n",
    "\n",
    "# SCRAPING FUNCTIONS\n",
    "\n",
    "# Get the website text with a built in retry if \n",
    "# there is no connection.  Returns a string if it \n",
    "# tries more than a designated maximum number of \n",
    "# times.\n",
    "\n",
    "def make_soup(url, maxTries=20):\n",
    "    connection = 0\n",
    "    tries = 0\n",
    "    \n",
    "    while not connection:\n",
    "        \n",
    "        try:\n",
    "            html = urlopen(url).read()\n",
    "            soup = BeautifulSoup(html,'html.parser')\n",
    "            connection = 1\n",
    "            tries += 1\n",
    "            \n",
    "        except:\n",
    "            time.sleep(0.5)\n",
    "            tries += 1\n",
    "            \n",
    "        if tries == maxTries:\n",
    "            connection = 1\n",
    "            soup = 'The soup is ruined!!'\n",
    "    \n",
    "    return soup\n",
    "\n",
    "####################################################\n",
    "#\n",
    "# FUNCTION TESTING\n",
    "#\n",
    "# This area is a scratch pad for testing functions \n",
    "# after they have been written or changed.\n",
    "\n",
    "g = 'http://m.bkref.com/m?p=XXteamsXX'\n",
    "soupySoup = make_soup(g)\n",
    "\n",
    "print('Dear god I can\\'t read this horrible horse hockey!')\n"
   ]
  },
  {
   "cell_type": "code",
   "execution_count": 2,
   "metadata": {
    "collapsed": false
   },
   "outputs": [
    {
     "name": "stdout",
     "output_type": "stream",
     "text": [
      "   Abrv                    Name\n",
      "0   ATL           Atlanta Hawks\n",
      "1   BOS          Boston Celtics\n",
      "2   NJN           Brooklyn Nets\n",
      "3   CHA       Charlotte Hornets\n",
      "4   CHI           Chicago Bulls\n",
      "5   CLE     Cleveland Cavaliers\n",
      "6   DAL        Dallas Mavericks\n",
      "7   DEN          Denver Nuggets\n",
      "8   DET         Detroit Pistons\n",
      "9   GSW   Golden State Warriors\n",
      "10  HOU         Houston Rockets\n",
      "11  IND          Indiana Pacers\n",
      "12  LAC    Los Angeles Clippers\n",
      "13  LAL      Los Angeles Lakers\n",
      "14  MEM       Memphis Grizzlies\n",
      "15  MIA              Miami Heat\n",
      "16  MIL         Milwaukee Bucks\n",
      "17  MIN  Minnesota Timberwolves\n",
      "18  NOH    New Orleans Pelicans\n",
      "19  NYK         New York Knicks\n",
      "20  OKC   Oklahoma City Thunder\n",
      "21  ORL           Orlando Magic\n",
      "22  PHI      Philadelphia 76ers\n",
      "23  PHO            Phoenix Suns\n",
      "24  POR  Portland Trail Blazers\n",
      "25  SAC        Sacramento Kings\n",
      "26  SAS       San Antonio Spurs\n",
      "27  TOR         Toronto Raptors\n",
      "28  UTA               Utah Jazz\n",
      "29  WAS      Washington Wizards\n"
     ]
    }
   ],
   "source": [
    "# Make a list of the teams' names & abbreviations\n",
    "\n",
    "# Using the mobile site because it's simpler\n",
    "teamUrl = 'http://m.bkref.com/m?p=XXteamsXX'\n",
    "teamSoup = make_soup(teamUrl)\n",
    "\n",
    "# Everything is in one big table\n",
    "teams = teamSoup.find('ul')\n",
    "\n",
    "# Only active teams have an active link\n",
    "activeTeams = teams.findAll('a')\n",
    "\n",
    "teamNames = list()\n",
    "teamAbrev = list()\n",
    "\n",
    "for team in activeTeams:\n",
    "    teamNames.append(team.getText())\n",
    "    \n",
    "    currLink = team['href']\n",
    "    teamAbrev.append(currLink[13:16])\n",
    "\n",
    "# Bundle all this up into a dataframe\n",
    "teamFrame = pd.DataFrame({\n",
    "        'Name':teamNames,\n",
    "        'Abrv':teamAbrev})    \n",
    "    \n",
    "print(teamFrame)"
   ]
  },
  {
   "cell_type": "code",
   "execution_count": 3,
   "metadata": {
    "collapsed": false
   },
   "outputs": [
    {
     "name": "stdout",
     "output_type": "stream",
     "text": [
      "102\n"
     ]
    }
   ],
   "source": [
    "# Get a link list for games:\n",
    "cavsUrl ='http://www.basketball-reference.com/teams/CLE/2015_games.html'\n",
    "cavSoup = make_soup(cavsUrl)\n",
    "\n",
    "# Note that this will get all regular season and post season games\n",
    "# for the cavs, this was 102 games in 2015\n",
    "gameTable = cavSoup.findAll('tr')\n",
    "\n",
    "linkList = list()\n",
    "\n",
    "for game in gameTable:\n",
    "    currGame = game.findAll('td')\n",
    "    \n",
    "    # Checks to make sure you're not on a divider line\n",
    "    if len(currGame) > 1:\n",
    "        # Boxscore link\n",
    "        currLink = currGame[4].find('a')\n",
    "        currLink = currLink['href']\n",
    "        \n",
    "        # Cuts up the link you scrape and redirects you to the play-by-play\n",
    "        pbpLink = currLink[0:9] + '/pbp' + currLink[10:0]\n",
    "        linkList.append(pbpLink)\n",
    "\n",
    "print(len(linkList))"
   ]
  },
  {
   "cell_type": "code",
   "execution_count": 4,
   "metadata": {
    "collapsed": false
   },
   "outputs": [
    {
     "name": "stdout",
     "output_type": "stream",
     "text": [
      "410\n"
     ]
    }
   ],
   "source": [
    "# Play by play analysis:\n",
    "#\n",
    "# Take a link from the link list and stick it \n",
    "# on the end of basketball-reference.com/\n",
    "\n",
    "pbpUrl = 'http://www.basketball-reference.com/boxscores/pbp/201410300CLE.html'\n",
    "pbpSoup = make_soup(pbpUrl).findAll('td',{'class':'align_right'})\n",
    "\n",
    "# Regex string which finds game clock times\n",
    "alwaysTime = re.compile('\\d*:\\d{2}\\.\\d')\n",
    "\n",
    "maybeTime = list()\n",
    "standardTime = list()\n",
    "\n",
    "for thing in pbpSoup:\n",
    "    maybeTime.append(thing.getText())\n",
    "    \n",
    "for times in maybeTime:\n",
    "    if alwaysTime.search(times):\n",
    "        standardTime.append(times)\n",
    "    \n",
    "print(len(standardTime))\n"
   ]
  },
  {
   "cell_type": "code",
   "execution_count": 7,
   "metadata": {
    "collapsed": false
   },
   "outputs": [
    {
     "name": "stdout",
     "output_type": "stream",
     "text": [
      "[<table class=\"no_highlight stats_table\">\n",
      "<tr id=\"q1\">\n",
      "<th colspan=\"6\">1st Quarter</th></tr></table>]\n"
     ]
    }
   ],
   "source": [
    "pbpUrl = 'http://www.basketball-reference.com/boxscores/pbp/201410300CLE.html'\n",
    "\n",
    "pbpSoup = make_soup(pbpUrl)\n",
    "\n",
    "pbpTable = pbpSoup.findAll('table',{'class':'no_highlight stats_table'})\n",
    "\n",
    "print(pbpTable)\n"
   ]
  },
  {
   "cell_type": "code",
   "execution_count": 6,
   "metadata": {
    "collapsed": false
   },
   "outputs": [],
   "source": [
    "# This loads the data from some version of the CSV... not sure which right now....\n",
    "\n",
    "# fullDat = pd.DataFrame.from_csv('PBPComplete_20012015.csv')"
   ]
  },
  {
   "cell_type": "code",
   "execution_count": 3,
   "metadata": {
    "collapsed": false
   },
   "outputs": [
    {
     "name": "stdout",
     "output_type": "stream",
     "text": [
      "DatetimeIndex(['2001-01-01', '2001-01-01', '2001-01-01', '2001-01-01',\n",
      "               '2001-01-01', '2001-01-01', '2001-01-01', '2001-01-01',\n",
      "               '2001-01-01', '2001-01-01',\n",
      "               ...\n",
      "               '2015-01-01', '2015-01-01', '2015-01-01', '2015-01-01',\n",
      "               '2015-01-01', '2015-01-01', '2015-01-01', '2015-01-01',\n",
      "               '2015-01-01', '2015-01-01'],\n",
      "              dtype='datetime64[ns]', name='year', length=8466106, freq=None)\n"
     ]
    }
   ],
   "source": [
    "print(fullDat.index)"
   ]
  },
  {
   "cell_type": "code",
   "execution_count": 4,
   "metadata": {
    "collapsed": false
   },
   "outputs": [
    {
     "name": "stdout",
     "output_type": "stream",
     "text": [
      "Index(['game_id', 'away_team', 'home_team', 'quarter',\n",
      "       'time_remaining_quarter', 'time_remaining_game',\n",
      "       'time_remaining_in_seconds', 'score', 'away_score', 'home_score',\n",
      "       'total_differential', 'score_change', 'timeout', 'timeout_called',\n",
      "       'basket_made', 'basket_missed', 'rebound', 'assist', 'turnover', 'foul',\n",
      "       'distance_from_basket', 'event'],\n",
      "      dtype='object')\n"
     ]
    }
   ],
   "source": [
    "print(fullDat.columns)"
   ]
  },
  {
   "cell_type": "code",
   "execution_count": 5,
   "metadata": {
    "collapsed": false
   },
   "outputs": [
    {
     "name": "stdout",
     "output_type": "stream",
     "text": [
      "8466106\n"
     ]
    }
   ],
   "source": [
    "print(len(fullDat.index))"
   ]
  },
  {
   "cell_type": "code",
   "execution_count": 7,
   "metadata": {
    "collapsed": false
   },
   "outputs": [
    {
     "name": "stdout",
     "output_type": "stream",
     "text": [
      "8466106\n"
     ]
    }
   ],
   "source": [
    "indexTup = tuple(fullDat.index)\n",
    "\n",
    "print(len(indexTup))"
   ]
  },
  {
   "cell_type": "code",
   "execution_count": null,
   "metadata": {
    "collapsed": true
   },
   "outputs": [],
   "source": [
    "g = pd.DataFrame."
   ]
  }
 ],
 "metadata": {
  "kernelspec": {
   "display_name": "Python 3",
   "language": "python",
   "name": "python3"
  },
  "language_info": {
   "codemirror_mode": {
    "name": "ipython",
    "version": 3
   },
   "file_extension": ".py",
   "mimetype": "text/x-python",
   "name": "python",
   "nbconvert_exporter": "python",
   "pygments_lexer": "ipython3",
   "version": "3.5.1"
  }
 },
 "nbformat": 4,
 "nbformat_minor": 0
}
